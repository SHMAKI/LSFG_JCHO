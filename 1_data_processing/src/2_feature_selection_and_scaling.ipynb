{
 "cells": [
  {
   "cell_type": "markdown",
   "id": "37aebc90-ccc7-4921-9400-ba5000b53a83",
   "metadata": {},
   "source": [
    "# Feature selection by filter method"
   ]
  },
  {
   "cell_type": "code",
   "execution_count": null,
   "id": "2116f010-e036-4c20-8926-b93999fe9fa6",
   "metadata": {},
   "outputs": [],
   "source": [
    "import numpy as np\n",
    "import pandas as pd\n",
    "import joblib\n",
    "from sklearn import preprocessing\n",
    "from sklearn.feature_selection import VarianceThreshold"
   ]
  },
  {
   "cell_type": "markdown",
   "id": "e78ab233-2720-47e1-958e-51b3beff4ec9",
   "metadata": {},
   "source": [
    "# load data"
   ]
  },
  {
   "cell_type": "code",
   "execution_count": null,
   "id": "d3cf8639-6c69-49d8-bf60-bc1aed28cef8",
   "metadata": {},
   "outputs": [],
   "source": [
    "df = pd.read_csv(\"../processed_data/allfeatures.csv\", index_col=\"group.cmp\")\n",
    "used_id = joblib.load(\"../data/selected_1008id.pkl\")  # Load the list of selected IDs\n",
    "df = df.loc[df.index.isin(used_id)]"
   ]
  },
  {
   "cell_type": "markdown",
   "id": "75fee388-1cf6-485b-b3ef-903e7ce7f735",
   "metadata": {},
   "source": [
    "## scaling"
   ]
  },
  {
   "cell_type": "code",
   "execution_count": null,
   "id": "58424dd5-9a57-4e3b-81da-1607f13506bb",
   "metadata": {},
   "outputs": [],
   "source": [
    "ss = preprocessing.StandardScaler()\n",
    "X_scaled = pd.DataFrame(ss.fit_transform(df), index=df.index, columns=df.columns)\n",
    "df.to_csv(\"../processed_data/X.csv\")\n",
    "X_scaled.to_csv(\"../processed_data/X_scaled.csv\")"
   ]
  },
  {
   "cell_type": "markdown",
   "id": "aca12dab-0e21-47c6-92e1-2b9c2e46765c",
   "metadata": {},
   "source": [
    "## feature selection: variance > 0"
   ]
  },
  {
   "cell_type": "code",
   "execution_count": null,
   "id": "98aafea2-ce68-41fd-a36f-d7aef03644cb",
   "metadata": {},
   "outputs": [],
   "source": [
    "th = 0\n",
    "th_var = VarianceThreshold(threshold=th)\n",
    "th_var.fit(df)\n",
    "X_var_over0 = df.loc[:, th_var.get_support()]"
   ]
  },
  {
   "cell_type": "markdown",
   "id": "17318313-91e5-4831-999f-0126011cae31",
   "metadata": {},
   "source": [
    "## Function to search for highly correlated variables"
   ]
  },
  {
   "cell_type": "code",
   "execution_count": null,
   "id": "8daeb627-6569-4586-825d-e1adb178ab76",
   "metadata": {},
   "outputs": [],
   "source": [
    "#https://github.com/hkaneko1985/variable_selection_and_clustering_based_on_r/blob/master/variable_selection_based_on_r.py\n",
    "def search_highly_correlated_variables(x, threshold_of_r):\n",
    "    \"\"\"\n",
    "    Search variables whose absolute correlation coefficient is higher than threshold_of_r.\n",
    "\n",
    "    Parameters\n",
    "    ----------\n",
    "    x : numpy.array or pandas.DataFrame\n",
    "        The input data for which to find highly correlated features.\n",
    "    threshold_of_r : float\n",
    "        The threshold of the correlation coefficient to identify highly correlated features.\n",
    "\n",
    "    Returns\n",
    "    -------\n",
    "    highly_correlated_variable_numbers : list\n",
    "        The indices of variables that should be deleted.\n",
    "    \"\"\"\n",
    "    r_in_x = x.corr().abs()\n",
    "    np.fill_diagonal(r_in_x.values, 0)\n",
    "    highly_correlated_variable_numbers = []\n",
    "\n",
    "    while True:\n",
    "        r_max = r_in_x.max().max()\n",
    "        if r_max < threshold_of_r:\n",
    "            break\n",
    "        variable_number_1 = r_in_x.max().idxmax()\n",
    "        variable_number_2 = r_in_x[variable_number_1].idxmax()\n",
    "        r_sum_1 = r_in_x[variable_number_1].sum()\n",
    "        r_sum_2 = r_in_x[variable_number_2].sum()\n",
    "\n",
    "        delete_x_number = variable_number_1 if r_sum_1 > r_sum_2 else variable_number_2\n",
    "        print(f\"r_max: {r_max}, delete {x.columns[delete_x_number]}\")\n",
    "        highly_correlated_variable_numbers.append(delete_x_number)\n",
    "        r_in_x.loc[:, delete_x_number] = 0\n",
    "        r_in_x.loc[delete_x_number, :] = 0\n",
    "\n",
    "    return highly_correlated_variable_numbers"
   ]
  },
  {
   "cell_type": "code",
   "execution_count": null,
   "id": "0a55666a-d328-4623-9419-b87a2e74d321",
   "metadata": {},
   "outputs": [],
   "source": [
    "# Apply the feature selection\n",
    "train_x_both_tmp = X_var_over0.copy()\n",
    "for COR in [0.99]:#[0.99,0.95,0.9,0.85,0.8]:\n",
    "    highly_correlated_variable_nums = search_highly_correlated_variables(train_x_both_tmp, COR)\n",
    "    low_correlated_variables_TF = ~train_x_both_tmp.columns.isin(\n",
    "        train_x_both_tmp.iloc[:, highly_correlated_variable_nums].columns)\n",
    "    train_x_both_var_cor_tmp = train_x_both_tmp.loc[:, low_correlated_variables_TF]\n",
    "    joblib.dump(list(train_x_both_var_cor_tmp.columns),\n",
    "                f\"../processed_data/tsfresh_features_var_{th}_r_{COR}.pkl\")\n",
    "    train_x_both_tmp = train_x_both_var_cor_tmp\n",
    "    print(f\"r<{COR}, features = {train_x_both_tmp.shape[1]}\")"
   ]
  }
 ],
 "metadata": {
  "kernelspec": {
   "display_name": "Python 3 (ipykernel)",
   "language": "python",
   "name": "python3"
  },
  "language_info": {
   "codemirror_mode": {
    "name": "ipython",
    "version": 3
   },
   "file_extension": ".py",
   "mimetype": "text/x-python",
   "name": "python",
   "nbconvert_exporter": "python",
   "pygments_lexer": "ipython3",
   "version": "3.8.0"
  }
 },
 "nbformat": 4,
 "nbformat_minor": 5
}
