{
 "cells": [
  {
   "cell_type": "markdown",
   "id": "e5968e4e",
   "metadata": {},
   "source": [
    "# Time Course Data Analysis with TSFresh\n",
    "This notebook applies TSFresh to generate new features from time course data from MBR data."
   ]
  },
  {
   "cell_type": "markdown",
   "id": "04ba9a9c-8bcb-4596-bfa4-9d8e44fcf1db",
   "metadata": {},
   "source": [
    "tsfresh==0.17\n",
    "statsmodels==0.12\n",
    "numpy==1.21.5\n",
    "pandas==1.3.5"
   ]
  },
  {
   "cell_type": "code",
   "execution_count": 1,
   "id": "6034d431-09d2-4249-a386-70c4b3b97fc3",
   "metadata": {},
   "outputs": [
    {
     "name": "stdout",
     "output_type": "stream",
     "text": [
      "Python 3.7.0\n"
     ]
    }
   ],
   "source": [
    "!python -V"
   ]
  },
  {
   "cell_type": "code",
   "execution_count": null,
   "id": "d2e22973-f294-410a-bfd7-1e7e65e96614",
   "metadata": {},
   "outputs": [],
   "source": [
    "# Extract features using TSFresh\n",
    "import numpy as np\n",
    "import pandas as pd\n",
    "from tsfresh import extract_features"
   ]
  },
  {
   "cell_type": "code",
   "execution_count": null,
   "id": "44cbe89f-87ba-4259-bb3b-8dcbe5aa2630",
   "metadata": {},
   "outputs": [],
   "source": [
    "# Load the time course data\n",
    "df = pd.read_csv(\"../data/10types_waveform_mean_spread.csv\").drop([\"Proj\",\"eye\"],axis=1)"
   ]
  },
  {
   "cell_type": "code",
   "execution_count": null,
   "id": "95d9d42f-f461-402a-ba5f-5c91dfb54bcc",
   "metadata": {
    "scrolled": true
   },
   "outputs": [],
   "source": [
    "# Extract features using TSFresh\n",
    "tsfresh_features = extract_features(df, column_id='group.cmp', column_sort=\"t\")"
   ]
  },
  {
   "cell_type": "markdown",
   "id": "c5b5a5cc-5079-4d5c-bd81-6e82e689d606",
   "metadata": {},
   "source": [
    "## na and inf processing by `impute`"
   ]
  },
  {
   "cell_type": "code",
   "execution_count": null,
   "id": "2bbd5bd2-a101-41be-954d-c3832f739daf",
   "metadata": {},
   "outputs": [],
   "source": [
    "from tsfresh.utilities.dataframe_functions import impute\n",
    "tsf_features_impute = impute(tsfresh_features)"
   ]
  },
  {
   "cell_type": "markdown",
   "id": "a742bd34-2186-4b6b-a757-b38aebcd46e1",
   "metadata": {},
   "source": [
    "## Remove or replace unwanted characters from feature names"
   ]
  },
  {
   "cell_type": "code",
   "execution_count": null,
   "id": "3a3a01b8-c9fb-4ca3-8a63-24bc88004450",
   "metadata": {},
   "outputs": [],
   "source": [
    "tsf_features_impute.columns = (\n",
    "    tsf_features_impute.columns\n",
    "    .str.replace('\"', '', regex=False)\n",
    "    .str.replace('(', '', regex=False)\n",
    "    .str.replace(')', '', regex=False)\n",
    "    .str.replace('[', '', regex=False)\n",
    "    .str.replace(']', '', regex=False)\n",
    "    .str.replace('{', '', regex=False)\n",
    "    .str.replace('}', '', regex=False)\n",
    "    .str.replace(', ', '-', regex=False)\n",
    "    .str.replace(',', '-', regex=False)\n",
    "    .str.replace(':', '-', regex=False)\n",
    ")\n"
   ]
  },
  {
   "cell_type": "code",
   "execution_count": null,
   "id": "62cd4f1e-d914-4424-b812-5489f70e9113",
   "metadata": {},
   "outputs": [],
   "source": [
    "tsf_features_impute.index.name = \"group.cmp\"\n",
    "tsf_features_impute.to_csv(\"../processed_data/tsfreshfeatures.csv\")"
   ]
  },
  {
   "cell_type": "markdown",
   "id": "1d81a838-164e-4bfd-be0d-47baa40e1613",
   "metadata": {},
   "source": [
    "## merge TBFs with PDFs"
   ]
  },
  {
   "cell_type": "code",
   "execution_count": null,
   "id": "d39fc91c-ff99-4305-b282-99e0a14ed21f",
   "metadata": {},
   "outputs": [],
   "source": [
    "PDFs=pd.read_csv(\"../../calculation_of_predefined_features/processed_data/4types_waveform_PDFs.csv\", index_col=0)"
   ]
  },
  {
   "cell_type": "code",
   "execution_count": null,
   "id": "730ca0a0-ec79-4dc6-8dee-e0ffcf352ebb",
   "metadata": {},
   "outputs": [],
   "source": [
    "PDFs.shape"
   ]
  },
  {
   "cell_type": "code",
   "execution_count": null,
   "id": "4808f82e-94f3-4df6-a83a-5693043277a1",
   "metadata": {},
   "outputs": [],
   "source": [
    "all_features = pd.merge(PDFs, tsf_features_impute, left_index=True, right_index=True)"
   ]
  },
  {
   "cell_type": "code",
   "execution_count": null,
   "id": "a83b7b9f-12ac-480d-9f13-c4123def5286",
   "metadata": {},
   "outputs": [],
   "source": [
    "all_features.to_csv(\"../processed_data/allfeatures.csv\")"
   ]
  }
 ],
 "metadata": {
  "kernelspec": {
   "display_name": "Python 3 (ipykernel)",
   "language": "python",
   "name": "python3"
  },
  "language_info": {
   "codemirror_mode": {
    "name": "ipython",
    "version": 3
   },
   "file_extension": ".py",
   "mimetype": "text/x-python",
   "name": "python",
   "nbconvert_exporter": "python",
   "pygments_lexer": "ipython3",
   "version": "3.7.0"
  }
 },
 "nbformat": 4,
 "nbformat_minor": 5
}
