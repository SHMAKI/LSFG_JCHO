{
 "cells": [
  {
   "cell_type": "code",
   "execution_count": null,
   "id": "0f1e1c8a-fb65-4eed-b954-53899916ef18",
   "metadata": {},
   "outputs": [],
   "source": [
    "#!pip install seaborn==0.13"
   ]
  },
  {
   "cell_type": "code",
   "execution_count": null,
   "id": "a924b281-e311-49e8-84dc-f41173415aeb",
   "metadata": {},
   "outputs": [],
   "source": [
    "import pandas as pd\n",
    "import numpy as np\n",
    "import matplotlib.pyplot as plt\n",
    "import seaborn as sns\n",
    "import os, re\n",
    "plt.rcParams['pdf.fonttype'] = 42\n",
    "plt.rcParams['font.family'] = 'Arial'"
   ]
  },
  {
   "cell_type": "markdown",
   "id": "38b536f7-7263-45da-88f4-6cdedb288e07",
   "metadata": {},
   "source": [
    "# Import model prediction"
   ]
  },
  {
   "cell_type": "code",
   "execution_count": null,
   "id": "c6df0fca-b13f-4797-aec8-7698dbca1ef8",
   "metadata": {},
   "outputs": [],
   "source": [
    "ipt_DIR_male = \"../../../2_model_construction/lasso/out/MAPE/0.99/Lasso/male/tsfresh/\"\n",
    "ipt_DIR_female = \"../../../2_model_construction/lightGBM/out/MAPE/0.99/LGBM/female/both/\"\n",
    "\n",
    "outDIR_figure = \"../figure/\"\n",
    "outDIR = \"../out/\"\n",
    "os.makedirs(outDIR, exist_ok=True)\n"
   ]
  },
  {
   "cell_type": "code",
   "execution_count": null,
   "id": "21bad284-02e5-4669-8c36-4b465c339d59",
   "metadata": {},
   "outputs": [],
   "source": [
    "df_pred_male = pd.read_csv(os.path.join(ipt_DIR_male,\"pred_vs_true.csv\"), usecols=[1,2,5],index_col=0)\n",
    "df_pred_female = pd.read_csv(os.path.join(ipt_DIR_female,\"pred_vs_true.csv\"), usecols=[1,2,5],index_col=0)\n",
    "df_pred = pd.concat([df_pred_male,df_pred_female])"
   ]
  },
  {
   "cell_type": "markdown",
   "id": "90905acd-5d1d-497c-b9d2-f2de03509ad7",
   "metadata": {},
   "source": [
    "# Import systemic parameters"
   ]
  },
  {
   "cell_type": "code",
   "execution_count": null,
   "id": "02c2f258-7d47-4372-b462-858fa01d0f4a",
   "metadata": {},
   "outputs": [],
   "source": [
    "df = pd.read_csv(\"../data/systemic_params.csv\",index_col=\"group.cmp\")"
   ]
  },
  {
   "cell_type": "markdown",
   "id": "f46499ce-2b87-44ac-a923-7b30be5e1042",
   "metadata": {},
   "source": [
    "# Import matching results"
   ]
  },
  {
   "cell_type": "code",
   "execution_count": null,
   "id": "751dcb9d-42a9-4328-b8b2-901c1d5ed4ea",
   "metadata": {},
   "outputs": [],
   "source": [
    "df_match = pd.read_csv(\"../out/pred_vs_true_matched_male_and_female.csv\")"
   ]
  },
  {
   "cell_type": "markdown",
   "id": "d2cd91cd-be45-4c32-8e5d-195547afad85",
   "metadata": {},
   "source": [
    "### Figure 4A Colour coding by propensity score matching"
   ]
  },
  {
   "cell_type": "code",
   "execution_count": null,
   "id": "443df26e-477d-47cd-901c-a2f7f6000df8",
   "metadata": {},
   "outputs": [],
   "source": [
    "new_col = \"Class\"\n",
    "new_col_2 = \"Class_2\"\n",
    "excluded_class = \"Excluded\"\n",
    "younger_class_name = \"Model-predicted younger\"\n",
    "older_class_name = \"Model-predicted older\"\n",
    "\n",
    "df[new_col_2] = excluded_class\n",
    "df.loc[df.Age * 0.9 > df.Predicted_age, new_col_2] = younger_class_name\n",
    "df.loc[df.Age * 1.1 < df.Predicted_age, new_col_2] = older_class_name\n",
    "df[new_col] = df[new_col_2]\n",
    "df.loc[df.index.isin(df_match.query(\"pred_real==0\")[\"group.cmp\"]), new_col] = younger_class_name+ \" (matched)\"\n",
    "df.loc[df.index.isin(df_match.query(\"pred_real==1\")[\"group.cmp\"]), new_col] = older_class_name+\" (matched)\""
   ]
  },
  {
   "cell_type": "code",
   "execution_count": null,
   "id": "485eae7e-743a-4673-be0f-99cc5c96fa79",
   "metadata": {},
   "outputs": [],
   "source": [
    "transp_class = [excluded_class, younger_class_name, older_class_name]"
   ]
  },
  {
   "cell_type": "code",
   "execution_count": null,
   "id": "66b13516-23a7-4a5e-b4f7-4a3e448315f9",
   "metadata": {},
   "outputs": [],
   "source": [
    "# define color mapping\n",
    "color_mapping = {\n",
    "    \"Excluded\": \"gray\",\n",
    "    younger_class_name: sns.color_palette(\"tab10\")[0],\n",
    "    older_class_name: sns.color_palette(\"tab10\")[1],\n",
    "    younger_class_name + \" (matched)\": sns.color_palette(\"tab10\")[0],\n",
    "    older_class_name + \" (matched)\": sns.color_palette(\"tab10\")[1],\n",
    "}\n",
    "\n",
    "# l for diagonal line\n",
    "l = np.arange(35, 75, 1)\n",
    "# グラフのサイズを設定\n",
    "plt.figure(figsize=(5, 4))\n",
    "\n",
    "# semi-transparent plot except for \"matched\"\n",
    "sns.scatterplot(x=df.loc[df[new_col].isin(transp_class), \"Age\"],\n",
    "                y=df.loc[df[new_col].isin(transp_class), \"Predicted_age\"],\n",
    "                hue=df.loc[df[new_col].isin(transp_class), new_col],\n",
    "                palette=color_mapping, alpha=0.1, sizes=0.5)\n",
    "\n",
    "# plot for \"matched\"\n",
    "sns.scatterplot(x=df.loc[~df[new_col].isin(transp_class), \"Age\"],\n",
    "                y=df.loc[~df[new_col].isin(transp_class), \"Predicted_age\"], legend=False,\n",
    "                hue=df.loc[~df[new_col].isin(transp_class), new_col],\n",
    "                palette=color_mapping, sizes=0.5)\n",
    "\n",
    "# diagonal line indicating thresholds\n",
    "plt.plot(l, l * 0.9, c=\"black\", alpha=0.5, linestyle=\"--\")\n",
    "plt.plot(l, l * 1.1, c=\"black\", alpha=0.5, linestyle=\"--\")\n",
    "\n",
    "plt.xlabel(\"Actual age\", fontsize=14)\n",
    "plt.ylabel(\"Predicted age\", fontsize=14)\n",
    "plt.tick_params(axis='both', which='major', labelsize=14)\n",
    "plt.tick_params(axis='both', which='major', labelsize=14)\n",
    "plt.grid()\n",
    "\n",
    "handles, labels = plt.gca().get_legend_handles_labels()\n",
    "for handle in handles:\n",
    "    handle.set_alpha(1)\n",
    "plt.legend(handles=handles, labels=labels, title='', fontsize=12)\n",
    "plt.tight_layout()\n",
    "\n",
    "plt.savefig(outDIR_figure + '/color_TrueAge_vs_predAge' + '.pdf', bbox_inches=\"tight\")"
   ]
  }
 ],
 "metadata": {
  "kernelspec": {
   "display_name": "Python 3 (ipykernel)",
   "language": "python",
   "name": "python3"
  },
  "language_info": {
   "codemirror_mode": {
    "name": "ipython",
    "version": 3
   },
   "file_extension": ".py",
   "mimetype": "text/x-python",
   "name": "python",
   "nbconvert_exporter": "python",
   "pygments_lexer": "ipython3",
   "version": "3.8.0"
  }
 },
 "nbformat": 4,
 "nbformat_minor": 5
}
