{
 "cells": [
  {
   "cell_type": "code",
   "execution_count": null,
   "id": "f71c04b5-46b4-4573-828a-b9206889a0ae",
   "metadata": {},
   "outputs": [],
   "source": [
    "#!pip install statannotations==0.5.0\n",
    "#!pip install seaborn==0.11.2"
   ]
  },
  {
   "cell_type": "code",
   "execution_count": null,
   "id": "b96666da-2a08-44b4-a3f7-05ba133c4125",
   "metadata": {},
   "outputs": [],
   "source": [
    "import pandas as pd\n",
    "import numpy as np\n",
    "import matplotlib.pyplot as plt\n",
    "import seaborn as sns\n",
    "import os, re\n",
    "plt.rcParams['pdf.fonttype'] = 42\n",
    "plt.rcParams['font.family'] = 'Arial'"
   ]
  },
  {
   "cell_type": "code",
   "execution_count": null,
   "id": "867206ce-5ce3-4385-80ee-c7d228cb1936",
   "metadata": {},
   "outputs": [],
   "source": [
    "from statannotations.Annotator import Annotator"
   ]
  },
  {
   "cell_type": "code",
   "execution_count": null,
   "id": "210c7e59-2168-44b0-8479-dbcb6e08e62e",
   "metadata": {},
   "outputs": [],
   "source": [
    "from scipy import stats"
   ]
  },
  {
   "cell_type": "markdown",
   "id": "7bce2601-1433-4642-82a6-6a803235febc",
   "metadata": {},
   "source": [
    "# Import model prediction"
   ]
  },
  {
   "cell_type": "code",
   "execution_count": null,
   "id": "76820ae8-35b9-4845-beaf-e4631f686d9f",
   "metadata": {},
   "outputs": [],
   "source": [
    "ipt_DIR_male = \"../../../2_model_construction/lasso/out/MAPE/0.99/Lasso/male/tsfresh/\"\n",
    "ipt_DIR_female = \"../../../2_model_construction/lightGBM/out/MAPE/0.99/LGBM/female/both/\"\n",
    "\n",
    "ipt_DIR_male = \"/Users/s_magi/research/AI_experiment/220705/MAPE_bagging/0.99/Lasso/male/tsfresh/\"\n",
    "ipt_DIR_female = \"/Users/s_magi/research/AI_experiment/220705/MAPE/0.99/LGBM/female/both/\"\n",
    "\n",
    "outDIR_figure = \"../figure/\"\n",
    "outDIR = \"../out/\"\n",
    "os.makedirs(outDIR, exist_ok=True)\n"
   ]
  },
  {
   "cell_type": "code",
   "execution_count": null,
   "id": "1e73945c-1c0f-4247-a8ef-670114ec11e6",
   "metadata": {},
   "outputs": [],
   "source": [
    "df_pred_male = pd.read_csv(os.path.join(ipt_DIR_male,\"pred_vs_true.csv\"), usecols=[1,2,5],index_col=0)\n",
    "df_pred_female = pd.read_csv(os.path.join(ipt_DIR_female,\"pred_vs_true.csv\"), usecols=[1,2,5],index_col=0)\n",
    "df_pred = pd.concat([df_pred_male,df_pred_female])"
   ]
  },
  {
   "cell_type": "markdown",
   "id": "54495f13-2dad-4e9f-8c4e-22f795971e13",
   "metadata": {},
   "source": [
    "# Import systemic parameters"
   ]
  },
  {
   "cell_type": "code",
   "execution_count": null,
   "id": "aa500f9a-18d5-4864-8d36-c3362eab9a4e",
   "metadata": {},
   "outputs": [],
   "source": [
    "df = pd.read_csv(\"../data/systemic_params.csv\",index_col=\"group.cmp\")"
   ]
  },
  {
   "cell_type": "markdown",
   "id": "24bde1e3-d5b8-47f6-bfc6-8068e1cb197b",
   "metadata": {},
   "source": [
    "# Import matching results"
   ]
  },
  {
   "cell_type": "code",
   "execution_count": null,
   "id": "35177fc7-df90-4314-8195-248a63dd063a",
   "metadata": {},
   "outputs": [],
   "source": [
    "df_match = pd.read_csv(\"../out/pred_vs_true_matched_male_and_female.csv\")"
   ]
  },
  {
   "cell_type": "markdown",
   "id": "6bc9acf6-c6c7-4a52-aa5b-cef5824b33a7",
   "metadata": {},
   "source": [
    "### Figure 4A Colour coding by propensity score matching"
   ]
  },
  {
   "cell_type": "code",
   "execution_count": null,
   "id": "2b0716b3-5f45-4fce-87a8-a597baa17953",
   "metadata": {},
   "outputs": [],
   "source": [
    "new_col = \"Class\"\n",
    "new_col_2 = \"Class_2\"\n",
    "excluded_class = \"Excluded\"\n",
    "younger_class_name = \"Model-predicted younger\"\n",
    "older_class_name = \"Model-predicted older\"\n",
    "\n",
    "df[new_col_2] = excluded_class\n",
    "df.loc[df.Age * 0.9 > df.Predicted_age, new_col_2] = younger_class_name\n",
    "df.loc[df.Age * 1.1 < df.Predicted_age, new_col_2] = older_class_name\n",
    "df[new_col] = df[new_col_2]\n",
    "df.loc[df.index.isin(df_match.query(\"pred_real==0\")[\"group.cmp\"]), new_col] = younger_class_name+ \" (matched)\"\n",
    "df.loc[df.index.isin(df_match.query(\"pred_real==1\")[\"group.cmp\"]), new_col] = older_class_name+\" (matched)\""
   ]
  },
  {
   "cell_type": "markdown",
   "id": "ff16eccb-2ce8-4cb0-aa6f-21d1d3a20613",
   "metadata": {},
   "source": [
    "# Comparison in components"
   ]
  },
  {
   "cell_type": "code",
   "execution_count": null,
   "id": "3d5b13c5-bb94-4b5d-b303-17cfe17f1e14",
   "metadata": {},
   "outputs": [],
   "source": [
    "df[\"BMI ($kg/m^{2}$)\"] = df[\"Weight (kg)\"] / (df[\"Height (cm)\"]/100)**2"
   ]
  },
  {
   "cell_type": "code",
   "execution_count": null,
   "id": "ae3dfa51-b657-4769-8a55-90d42a1e0748",
   "metadata": {
    "tags": []
   },
   "outputs": [],
   "source": [
    "useobj_after = [\"drug treatment for elevated blood pressure\",\n",
    "                \"drug treatment for dyslipidemia\",\n",
    "                \"drug treatment for elevated blood glucose\"]\n",
    "df = df.drop(useobj_after, axis=1)"
   ]
  },
  {
   "cell_type": "markdown",
   "id": "d5bdcbc2-21bd-4ebb-8c36-cf62c91c711c",
   "metadata": {},
   "source": [
    "# Comparison between matched samples"
   ]
  },
  {
   "cell_type": "code",
   "execution_count": null,
   "id": "6cc19fa3-1461-4390-9f92-ba02b4791a0e",
   "metadata": {},
   "outputs": [],
   "source": [
    "outDIR_th = outDIR_figure+ \"/matched\"\n",
    "os.makedirs(outDIR_th, exist_ok=True)\n",
    "\n",
    "df_tmp1=df.loc[~df[new_col].isin(transp_class)].copy().drop([new_col_2],axis=1)\n",
    "df_tmp1[new_col] = df_tmp1[new_col].replace({older_class_name+\" (matched)\":older_class_name,younger_class_name+ \" (matched)\":younger_class_name})"
   ]
  },
  {
   "cell_type": "code",
   "execution_count": null,
   "id": "69be1515-c1b3-45cb-9331-4a650cdc9b97",
   "metadata": {},
   "outputs": [],
   "source": [
    "score_all_mean = df_tmp1.groupby(new_col).mean().T\n",
    "score_all_sd = df_tmp1.groupby(new_col).std().T\n",
    "score_all_mean_str = score_all_mean.round(2).astype(str)\n",
    "score_all_sd_str = score_all_sd.round(2).astype(str)\n",
    "# Calculating mean ± sd for summary\n",
    "score_all_str = score_all_mean_str + \"±\" + score_all_sd_str\n",
    "grouped = df_tmp1.groupby(new_col)\n",
    "\n",
    "# Shorten labels for plotting\n",
    "short_label = \"Model-predicted\"\n",
    "df_tmp1[short_label] = excluded_class\n",
    "df_tmp1.loc[df_tmp1[new_col] == younger_class_name, short_label] = \"Younger\"\n",
    "df_tmp1.loc[df_tmp1[new_col] == older_class_name, short_label] = \"Older\"\n",
    "\n",
    "# Define category order\n",
    "order = [\"Younger\", \"Older\"]"
   ]
  },
  {
   "cell_type": "code",
   "execution_count": null,
   "id": "6b3c5aea-835b-4b24-8c13-dc57b79158d2",
   "metadata": {
    "scrolled": true
   },
   "outputs": [],
   "source": [
    "# Dictionary to store test statistics\n",
    "tstats = {}\n",
    "\n",
    "# Iterate through columns of the dataframe\n",
    "for i in df_tmp1.columns:\n",
    "    if pd.api.types.is_numeric_dtype(df_tmp1[i]):\n",
    "        i_filename = re.sub(r'[\\\\/:*?\"<>|\\^\\$\\{\\}\\(\\) ]+', '', i)\n",
    "        plt.figure(figsize=(2, 3))\n",
    "\n",
    "        # Create strip plot\n",
    "        ax = sns.stripplot(x=short_label, y=i, data=df_tmp1, jitter=0.1, size=2, alpha=0.5, linewidth=.1, order=order)\n",
    "\n",
    "        # Create point plot\n",
    "        sns.pointplot(x=short_label, y=i, data=df_tmp1, join=False, capsize=0.1, color='black', scale=0.5, order=order)\n",
    "\n",
    "        # Change line width\n",
    "        for line in ax.lines:\n",
    "            line.set_linewidth(1)\n",
    "\n",
    "        # Add statistical annotation using statannotations\n",
    "        if all(df_tmp1.groupby(short_label)[i].var() != 0):\n",
    "            pairs = [(\"Younger\", \"Older\")]\n",
    "            annotator = Annotator(ax, pairs, data=df_tmp1, x=short_label, y=i, order=order)\n",
    "            annotator.configure(test='Mann-Whitney', text_format='star', loc='inside', comparisons_correction=None)\n",
    "            annotator.apply_and_annotate()\n",
    "\n",
    "        # Add margin to the x-axis\n",
    "        plt.margins(x=0.25) \n",
    "        # Save the figure\n",
    "        plt.savefig(f\"{outDIR_th}/{i_filename}_vs_predAge.pdf\", bbox_inches=\"tight\")\n",
    "        plt.close()\n",
    "\n",
    "        # If the column is binary, perform chi-square test and ROC curve\n",
    "        if np.isin(df_tmp1[i].dropna().unique(), [0, 1]).all():\n",
    "            cleaned_df = df_tmp1[[new_col, i]].dropna()\n",
    "            crossed = pd.crosstab(cleaned_df[new_col], cleaned_df[i])\n",
    "            tstats[i] = stats.chi2_contingency(crossed.dropna())[1]\n",
    "        else:\n",
    "            tstats[i] = stats.mannwhitneyu(df_tmp1[i][df_tmp1[new_col] == younger_class_name].dropna(),\n",
    "                                           df_tmp1[i][df_tmp1[new_col] == older_class_name].dropna(),\n",
    "                                           alternative=\"two-sided\")[1]\n",
    "\n",
    "df_summary = pd.concat([score_all_str, pd.Series(tstats, name=\"p_values\")], axis=1)\n",
    "df_summary.to_csv(f\"{outDIR_th}/score_all_str.csv\")\n",
    "print(df_summary[df_summary[\"p_values\"] < 0.05])"
   ]
  },
  {
   "cell_type": "markdown",
   "id": "4060dc20-f20a-44fe-a39c-4ec66a958e51",
   "metadata": {},
   "source": [
    "# Comparison between all samples"
   ]
  },
  {
   "cell_type": "code",
   "execution_count": null,
   "id": "cfbbc235-dc51-40a8-ac84-fe4cce158203",
   "metadata": {},
   "outputs": [],
   "source": [
    "outDIR_th = outDIR_figure+ \"/all\"\n",
    "os.makedirs(outDIR_th, exist_ok=True)\n",
    "\n",
    "df_tmp1=df.loc[df[new_col_2].isin([older_class_name,younger_class_name])].copy()\n",
    "df_tmp1[new_col] = df_tmp1[new_col_2]\n",
    "df_tmp1 = df_tmp1.drop([new_col_2],axis=1)"
   ]
  },
  {
   "cell_type": "code",
   "execution_count": null,
   "id": "f4311cee-e141-44f9-9c5d-ef555779dd19",
   "metadata": {},
   "outputs": [],
   "source": [
    "score_all_mean = df_tmp1.groupby(new_col).mean().T\n",
    "score_all_sd = df_tmp1.groupby(new_col).std().T\n",
    "score_all_mean_str = score_all_mean.round(2).astype(str)\n",
    "score_all_sd_str = score_all_sd.round(2).astype(str)\n",
    "# Calculating mean ± sd for summary\n",
    "score_all_str = score_all_mean_str + \"±\" + score_all_sd_str\n",
    "grouped = df_tmp1.groupby(new_col)\n",
    "\n",
    "# Shorten labels for plotting\n",
    "short_label = \"Model-predicted\"\n",
    "df_tmp1[short_label] = excluded_class\n",
    "df_tmp1.loc[df_tmp1[new_col] == younger_class_name, short_label] = \"Younger\"\n",
    "df_tmp1.loc[df_tmp1[new_col] == older_class_name, short_label] = \"Older\"\n",
    "\n",
    "# Define category order\n",
    "order = [\"Younger\", \"Older\"]"
   ]
  },
  {
   "cell_type": "code",
   "execution_count": null,
   "id": "88ab0857-bd88-4db9-b3ba-89c36cbaa8aa",
   "metadata": {
    "scrolled": true
   },
   "outputs": [],
   "source": [
    "# Dictionary to store test statistics\n",
    "tstats = {}\n",
    "\n",
    "# Iterate through columns of the dataframe\n",
    "for i in df_tmp1.columns:\n",
    "    if pd.api.types.is_numeric_dtype(df_tmp1[i]):\n",
    "        i_filename = re.sub(r'[\\\\/:*?\"<>|\\^\\$\\{\\}\\(\\) ]+', '', i)\n",
    "        plt.figure(figsize=(2, 3))\n",
    "\n",
    "        # Create strip plot\n",
    "        ax = sns.stripplot(x=short_label, y=i, data=df_tmp1, jitter=0.1, size=2, alpha=0.5, linewidth=.1, order=order)\n",
    "\n",
    "        # Create point plot\n",
    "        sns.pointplot(x=short_label, y=i, data=df_tmp1, join=False, capsize=0.1, color='black', scale=0.5, order=order)\n",
    "\n",
    "        # Change line width\n",
    "        for line in ax.lines:\n",
    "            line.set_linewidth(1)\n",
    "\n",
    "        # Add statistical annotation using statannotations\n",
    "        if all(df_tmp1.groupby(short_label)[i].var() != 0):\n",
    "            pairs = [(\"Younger\", \"Older\")]\n",
    "            annotator = Annotator(ax, pairs, data=df_tmp1, x=short_label, y=i, order=order)\n",
    "            annotator.configure(test='Mann-Whitney', text_format='star', loc='inside', comparisons_correction=None)\n",
    "            annotator.apply_and_annotate()\n",
    "\n",
    "        # Add margin to the x-axis\n",
    "        plt.margins(x=0.25) \n",
    "        # Save the figure\n",
    "        plt.savefig(f\"{outDIR_th}/{i_filename}_vs_predAge.pdf\", bbox_inches=\"tight\")\n",
    "        plt.close()\n",
    "\n",
    "        # If the column is binary, perform chi-square test and ROC curve\n",
    "        if np.isin(df_tmp1[i].dropna().unique(), [0, 1]).all():\n",
    "            cleaned_df = df_tmp1[[new_col, i]].dropna()\n",
    "            crossed = pd.crosstab(cleaned_df[new_col], cleaned_df[i])\n",
    "            tstats[i] = stats.chi2_contingency(crossed.dropna())[1]\n",
    "        else:\n",
    "            tstats[i] = stats.mannwhitneyu(df_tmp1[i][df_tmp1[new_col] == younger_class_name].dropna(),\n",
    "                                           df_tmp1[i][df_tmp1[new_col] == older_class_name].dropna(),\n",
    "                                           alternative=\"two-sided\")[1]\n",
    "\n",
    "df_summary = pd.concat([score_all_str, pd.Series(tstats, name=\"p_values\")], axis=1)\n",
    "df_summary.to_csv(f\"{outDIR_th}/score_all_str.csv\")\n",
    "print(df_summary[df_summary[\"p_values\"] < 0.05])"
   ]
  }
 ],
 "metadata": {
  "kernelspec": {
   "display_name": "Python 3 (ipykernel)",
   "language": "python",
   "name": "python3"
  },
  "language_info": {
   "codemirror_mode": {
    "name": "ipython",
    "version": 3
   },
   "file_extension": ".py",
   "mimetype": "text/x-python",
   "name": "python",
   "nbconvert_exporter": "python",
   "pygments_lexer": "ipython3",
   "version": "3.8.0"
  }
 },
 "nbformat": 4,
 "nbformat_minor": 5
}
