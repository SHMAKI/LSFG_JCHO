{
 "cells": [
  {
   "cell_type": "code",
   "execution_count": null,
   "id": "38b4c19a-d990-4131-9cda-ba29899e0ff9",
   "metadata": {},
   "outputs": [],
   "source": [
    "#!pip install seaborn==0.11.2\n",
    "#!pip install statannotations==0.5.0"
   ]
  },
  {
   "cell_type": "code",
   "execution_count": null,
   "id": "a1e1aaa1-3586-4fb7-998b-dbab298e3d53",
   "metadata": {},
   "outputs": [],
   "source": [
    "import pandas as pd\n",
    "import numpy as np\n",
    "import matplotlib.pyplot as plt\n",
    "import seaborn as sns\n",
    "import re\n",
    "import scipy.stats as stats"
   ]
  },
  {
   "cell_type": "code",
   "execution_count": null,
   "id": "934edf55-a452-4704-bc69-71960049af09",
   "metadata": {},
   "outputs": [],
   "source": [
    "from statannotations.Annotator import Annotator\n",
    "from scipy import stats"
   ]
  },
  {
   "cell_type": "code",
   "execution_count": null,
   "id": "afc8a6f1-83cf-415d-9d0c-06c6ee7e8996",
   "metadata": {},
   "outputs": [],
   "source": [
    "plt.rcParams['pdf.fonttype'] = 42\n",
    "plt.rcParams['font.family'] = 'Arial'"
   ]
  },
  {
   "cell_type": "markdown",
   "id": "5d94d8ae-4f9f-4af2-80d9-92110258ab2e",
   "metadata": {},
   "source": [
    "# Comparison of raw data for features \n",
    "Graph in the same format as figure4"
   ]
  },
  {
   "cell_type": "markdown",
   "id": "f0c743b4-3968-4f2d-ae1a-863c7ae63439",
   "metadata": {},
   "source": [
    "## data import"
   ]
  },
  {
   "cell_type": "code",
   "execution_count": null,
   "id": "a1447908-d541-4855-ad24-12728efac52b",
   "metadata": {},
   "outputs": [],
   "source": [
    "X = pd.read_csv(\"../../1_data_processing/processed_data/X.csv\", index_col=\"group.cmp\")"
   ]
  },
  {
   "cell_type": "code",
   "execution_count": null,
   "id": "8d34d4e6-3dd1-4379-83fc-79627ae41319",
   "metadata": {},
   "outputs": [],
   "source": [
    "shap_male_dir = \"../out/shap_male.csv\"  \n",
    "df_shap = pd.read_csv(shap_male_dir,index_col=\"group.cmp\")"
   ]
  },
  {
   "cell_type": "markdown",
   "id": "687741f1-94b6-4c68-b927-dea7d888459c",
   "metadata": {},
   "source": [
    "## data preprocessing"
   ]
  },
  {
   "cell_type": "code",
   "execution_count": null,
   "id": "a82d6148-00b8-4bcd-9115-129c60b4509f",
   "metadata": {},
   "outputs": [],
   "source": [
    "colnum_pred_real=np.where(df_shap.columns==\"pred_real\")[0][0]"
   ]
  },
  {
   "cell_type": "code",
   "execution_count": null,
   "id": "2c78e1f0-5f93-4bfb-8cc4-7248c750444f",
   "metadata": {},
   "outputs": [],
   "source": [
    "X_selected = X.loc[df_shap.index, df_shap.columns[(colnum_pred_real+1):]]"
   ]
  },
  {
   "cell_type": "code",
   "execution_count": null,
   "id": "b91d1c74-a9c4-4493-b306-8fd928984721",
   "metadata": {},
   "outputs": [],
   "source": [
    "df_tmp1 = pd.merge(df_shap[\"pred_real\"], X_selected, left_index=True, right_index=True)"
   ]
  },
  {
   "cell_type": "code",
   "execution_count": null,
   "id": "4222ba63-9486-4e64-8ec4-673e7111243d",
   "metadata": {},
   "outputs": [],
   "source": [
    "df_tmp1[\"pred_real\"] = df_tmp1[\"pred_real\"].replace({1:\"Pred_old\",0:\"Pred_young\"})\n",
    "new_col=\"Class\"\n",
    "df_tmp1=df_tmp1.rename(columns={'pred_real':new_col})"
   ]
  },
  {
   "cell_type": "code",
   "execution_count": null,
   "id": "dbd08328-adaf-4de2-9ceb-4c87af1b6b99",
   "metadata": {},
   "outputs": [],
   "source": [
    "outDIR = \"../figure/\"\n",
    "outDIR_th = os.path.join(outDIR, \"matched\")\n",
    "os.makedirs(outDIR_th, exist_ok=True)"
   ]
  },
  {
   "cell_type": "markdown",
   "id": "2bdf05d6-990d-44df-a6bb-33a158dff93c",
   "metadata": {},
   "source": [
    "## re-labeling & calc. mean sd"
   ]
  },
  {
   "cell_type": "code",
   "execution_count": null,
   "id": "dcb11cd1-4521-44b8-b6f9-34ddddb70634",
   "metadata": {},
   "outputs": [],
   "source": [
    "new_col = \"Class\"\n",
    "new_col_2 = \"Class_2\"\n",
    "excluded_class = \"Excluded\"\n",
    "younger_class_name = \"Pred_young\"\n",
    "older_class_name = \"Pred_old\""
   ]
  },
  {
   "cell_type": "code",
   "execution_count": null,
   "id": "4d64c114-9d4b-4106-9923-97f0e5e13a0f",
   "metadata": {},
   "outputs": [],
   "source": [
    "score_all_mean = df_tmp1.groupby(new_col).mean().T\n",
    "score_all_sd = df_tmp1.groupby(new_col).std().T\n",
    "score_all_mean_str = score_all_mean.round(2).astype(str)\n",
    "score_all_sd_str = score_all_sd.round(2).astype(str)\n",
    "# Calculating mean ± sd for summary\n",
    "score_all_str = score_all_mean_str + \"±\" + score_all_sd_str\n",
    "grouped = df_tmp1.groupby(new_col)\n",
    "\n",
    "# Shorten labels for plotting\n",
    "short_label = \"Model-predicted\"\n",
    "df_tmp1[short_label] = excluded_class\n",
    "df_tmp1.loc[df_tmp1[new_col] == younger_class_name, short_label] = \"Younger\"\n",
    "df_tmp1.loc[df_tmp1[new_col] == older_class_name, short_label] = \"Older\"\n",
    "\n",
    "# Define category order\n",
    "order = [\"Younger\", \"Older\"]"
   ]
  },
  {
   "cell_type": "markdown",
   "id": "ff345334-6fe4-451c-97c7-23cd25767016",
   "metadata": {},
   "source": [
    "## draw graphs and export stats"
   ]
  },
  {
   "cell_type": "code",
   "execution_count": null,
   "id": "37786019-27d5-454f-88d9-7d278a406ff0",
   "metadata": {
    "scrolled": true
   },
   "outputs": [],
   "source": [
    "# Dictionary to store test statistics\n",
    "tstats = {}\n",
    "\n",
    "# Iterate through columns of the dataframe\n",
    "for i in df_tmp1.columns:\n",
    "    if pd.api.types.is_numeric_dtype(df_tmp1[i]):\n",
    "        i_filename = re.sub(r'[\\\\/:*?\"<>|\\^\\$\\{\\}\\(\\) ]+', '', i)\n",
    "        plt.figure(figsize=(2, 3))\n",
    "\n",
    "        # Create strip plot\n",
    "        ax = sns.stripplot(x=short_label, y=i, data=df_tmp1, jitter=0.1, size=2, alpha=0.5, linewidth=.1, order=order)\n",
    "\n",
    "        # Create point plot\n",
    "        sns.pointplot(x=short_label, y=i, data=df_tmp1, join=False, capsize=0.1, color='black', scale=0.5, order=order)\n",
    "\n",
    "        # Change line width\n",
    "        for line in ax.lines:\n",
    "            line.set_linewidth(1)\n",
    "\n",
    "        # Add statistical annotation using statannotations\n",
    "        if all(df_tmp1.groupby(short_label)[i].var() != 0):\n",
    "            pairs = [(\"Younger\", \"Older\")]\n",
    "            annotator = Annotator(ax, pairs, data=df_tmp1, x=short_label, y=i, order=order)\n",
    "            annotator.configure(test='Mann-Whitney', text_format='star', loc='inside', comparisons_correction=None)\n",
    "            annotator.apply_and_annotate()\n",
    "\n",
    "        # Add margin to the x-axis\n",
    "        plt.margins(x=0.25) \n",
    "        # Save the figure\n",
    "        plt.savefig(f\"{outDIR_th}/{i_filename}_vs_predAge.pdf\", bbox_inches=\"tight\")\n",
    "        plt.close()\n",
    "\n",
    "        # If the column is binary, perform chi-square test and ROC curve\n",
    "        if np.isin(df_tmp1[i].dropna().unique(), [0, 1]).all():\n",
    "            cleaned_df = df_tmp1[[new_col, i]].dropna()\n",
    "            crossed = pd.crosstab(cleaned_df[new_col], cleaned_df[i])\n",
    "            tstats[i] = stats.chi2_contingency(crossed.dropna())[1]\n",
    "        else:\n",
    "            tstats[i] = stats.mannwhitneyu(df_tmp1[i][df_tmp1[new_col] == younger_class_name].dropna(),\n",
    "                                           df_tmp1[i][df_tmp1[new_col] == older_class_name].dropna(),\n",
    "                                           alternative=\"two-sided\")[1]\n",
    "\n",
    "df_summary = pd.concat([score_all_str, pd.Series(tstats, name=\"p_values\")], axis=1)\n",
    "df_summary.to_csv(f\"{outDIR_th}/score_all_str.csv\")\n",
    "print(df_summary[df_summary[\"p_values\"] < 0.05])"
   ]
  }
 ],
 "metadata": {
  "kernelspec": {
   "display_name": "Python 3 (ipykernel)",
   "language": "python",
   "name": "python3"
  },
  "language_info": {
   "codemirror_mode": {
    "name": "ipython",
    "version": 3
   },
   "file_extension": ".py",
   "mimetype": "text/x-python",
   "name": "python",
   "nbconvert_exporter": "python",
   "pygments_lexer": "ipython3",
   "version": "3.8.0"
  }
 },
 "nbformat": 4,
 "nbformat_minor": 5
}
