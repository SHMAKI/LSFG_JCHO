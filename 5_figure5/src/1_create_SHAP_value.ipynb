{
 "cells": [
  {
   "cell_type": "markdown",
   "id": "final-graduate",
   "metadata": {},
   "source": [
    "# Local SHAP calculation in model_predicted old and young subjects"
   ]
  },
  {
   "cell_type": "code",
   "execution_count": null,
   "id": "exposed-substance",
   "metadata": {
    "tags": []
   },
   "outputs": [],
   "source": [
    "import numpy as np\n",
    "import pandas as pd\n",
    "import os,re,glob\n",
    "import shap\n",
    "import joblib"
   ]
  },
  {
   "cell_type": "markdown",
   "id": "b1d7910c-f2ad-4341-a246-bfc7902b984b",
   "metadata": {},
   "source": [
    "## Import data"
   ]
  },
  {
   "cell_type": "code",
   "execution_count": null,
   "id": "9ceb1086-2026-4999-bf4b-e6d9e9bc74c1",
   "metadata": {},
   "outputs": [],
   "source": [
    "ipt_DIR = \"../../1_data_processing/processed_data/\"\n",
    "y = pd.read_csv(os.path.join(ipt_DIR, \"y.csv\"), index_col=\"group.cmp\")\n",
    "X = pd.read_csv(os.path.join(ipt_DIR, \"X_scaled.csv\"), index_col=\"group.cmp\")\n",
    "list_group_cmp = X.index.tolist()"
   ]
  },
  {
   "cell_type": "markdown",
   "id": "9aa3be65-d5c1-46e8-9656-b4f55ef3dcea",
   "metadata": {},
   "source": [
    "## import model"
   ]
  },
  {
   "cell_type": "code",
   "execution_count": null,
   "id": "bacterial-serve",
   "metadata": {},
   "outputs": [],
   "source": [
    "ipt_DIR_male = \"../../2_model_construction/lasso/out/MAPE/0.99/Lasso/male/tsfresh/\""
   ]
  },
  {
   "cell_type": "code",
   "execution_count": null,
   "id": "f7ab9e40-af12-4a5c-888a-fd8b960656d1",
   "metadata": {},
   "outputs": [],
   "source": [
    "models_male = []\n",
    "for i in range(5):\n",
    "    bestDIR = ipt_DIR_male+\"optuna/outer_\"+str(i)+\"/bestmodel.pkl\"\n",
    "    print(bestDIR)\n",
    "    best_lasso_cv = joblib.load(bestDIR)\n",
    "    models_male.extend(best_lasso_cv['estimator'])"
   ]
  },
  {
   "cell_type": "markdown",
   "id": "091ff59d-ef3a-476b-a5df-8fa78e174d36",
   "metadata": {},
   "source": [
    "# import coefficients used"
   ]
  },
  {
   "cell_type": "code",
   "execution_count": null,
   "id": "43bc0979-70d8-43dd-a7ed-b1a786f06bbe",
   "metadata": {},
   "outputs": [],
   "source": [
    "coef_male = pd.read_csv(ipt_DIR_male + \"feature_coefs.csv\",index_col=0)\n",
    "features_male = list(coef_male.columns)\n",
    "print(len(features_male))"
   ]
  },
  {
   "cell_type": "markdown",
   "id": "44bd83d7-c458-4c1b-ac8f-4b4afd8607f1",
   "metadata": {},
   "source": [
    "# import folds used"
   ]
  },
  {
   "cell_type": "code",
   "execution_count": null,
   "id": "e97c65c6-6ea9-46b0-9733-330485cad961",
   "metadata": {
    "tags": []
   },
   "outputs": [],
   "source": [
    "#import 5-folds\n",
    "folds_out = joblib.load(os.path.join(ipt_DIR,\"indices_5folds.pkl\"))"
   ]
  },
  {
   "cell_type": "markdown",
   "id": "611c0272-fe8e-48a6-95bb-7c8147596ee3",
   "metadata": {},
   "source": [
    "# import matched data"
   ]
  },
  {
   "cell_type": "code",
   "execution_count": null,
   "id": "631701cc-ca7a-425d-963a-412fc8ec3a79",
   "metadata": {},
   "outputs": [],
   "source": [
    "df_matched = pd.read_csv(\"../../4_Figure4/out/pred_vs_true_matched_male_and_female.csv\", index_col=0).set_index(\"group.cmp\")"
   ]
  },
  {
   "cell_type": "code",
   "execution_count": null,
   "id": "00bddf0b-8088-4717-9f55-fec2c7e7de2c",
   "metadata": {},
   "outputs": [],
   "source": [
    "tmp_df_matched_male = df_matched.query(\"`SEX.男1.女0`==1\")"
   ]
  },
  {
   "cell_type": "markdown",
   "id": "225f3ccc-bcbc-4d5e-879d-36edd19e8dbf",
   "metadata": {},
   "source": [
    "## calculate shap values of pred_old and young in male best model"
   ]
  },
  {
   "cell_type": "code",
   "execution_count": null,
   "id": "1db8f242-76d2-40dd-a504-4c49d675669b",
   "metadata": {
    "scrolled": true
   },
   "outputs": [],
   "source": [
    "df_male = pd.DataFrame()\n",
    "\n",
    "for k in range(len(folds_out)):\n",
    "    # select test, train, model sets in a fold\n",
    "    train_rows_index_tmp = y.loc[(y[\"SEX.男1.女0\"]==1) & (y.index.isin(folds_out[k][0]))].index\n",
    "    test_rows_index_tmp = y.loc[(y[\"SEX.男1.女0\"]==1) & (y.index.isin(folds_out[k][1]))].index\n",
    "\n",
    "    # all train data were used\n",
    "    x_train_tmp = X.loc[train_rows_index_tmp,features_male]\n",
    "    \n",
    "    x_test_tmp = X.loc[test_rows_index_tmp,features_male]\n",
    "    x_test_tmp = x_test_tmp[x_test_tmp.index.isin(tmp_df_matched_male.index)]\n",
    "\n",
    "    test_rows_index = x_test_tmp.index\n",
    "    \n",
    "    print(x_test_tmp.shape)\n",
    "    # calculate shap\n",
    "    model_tmp = models_male[k*5:(k+1)*5]\n",
    "    explainers = []\n",
    "    shap_values = []\n",
    "    for j in range(5):\n",
    "        explainer = shap.KernelExplainer(model_tmp[j].predict, x_train_tmp)\n",
    "        explainers.append(explainer)\n",
    "        shap_value = explainer.shap_values(x_test_tmp)\n",
    "        shap_values.append(shap_value)\n",
    "    \n",
    "    shap_values_ave = np.mean(shap_values,axis=0)\n",
    "\n",
    "    tmp_df = pd.DataFrame(shap_values_ave, test_rows_index)\n",
    "    tmp_df.columns = features_male\n",
    "    tmp_df = pd.merge(tmp_df_matched_male, tmp_df, left_index=True, right_index=True)\n",
    "    \n",
    "    df_male = pd.concat([df_male, tmp_df],axis=0)"
   ]
  },
  {
   "cell_type": "code",
   "execution_count": null,
   "id": "2dedb3ae-8e6a-4c91-890f-c3a7a994c8ec",
   "metadata": {},
   "outputs": [],
   "source": [
    "df_male.to_csv(\"../out/shap_male.csv\")"
   ]
  },
  {
   "cell_type": "code",
   "execution_count": null,
   "id": "0a3bf945-608d-468a-9314-7f56ae133bf8",
   "metadata": {},
   "outputs": [],
   "source": []
  }
 ],
 "metadata": {
  "kernelspec": {
   "display_name": "Python 3 (ipykernel)",
   "language": "python",
   "name": "python3"
  },
  "language_info": {
   "codemirror_mode": {
    "name": "ipython",
    "version": 3
   },
   "file_extension": ".py",
   "mimetype": "text/x-python",
   "name": "python",
   "nbconvert_exporter": "python",
   "pygments_lexer": "ipython3",
   "version": "3.9.19"
  }
 },
 "nbformat": 4,
 "nbformat_minor": 5
}
