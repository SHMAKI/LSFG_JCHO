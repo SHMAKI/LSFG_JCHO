{
 "cells": [
  {
   "cell_type": "markdown",
   "id": "final-graduate",
   "metadata": {},
   "source": [
    "# Figure 3CDE\n",
    "global shap analysis"
   ]
  },
  {
   "cell_type": "code",
   "execution_count": null,
   "id": "exposed-substance",
   "metadata": {
    "tags": []
   },
   "outputs": [],
   "source": [
    "import numpy as np\n",
    "import pandas as pd\n",
    "import os,re,glob\n",
    "import optuna\n",
    "import joblib\n",
    "import matplotlib.pyplot as plt\n",
    "import seaborn as sns\n",
    "import shap\n",
    "import logging"
   ]
  },
  {
   "cell_type": "code",
   "execution_count": null,
   "id": "f11e345c-3201-4317-b427-8672386445e5",
   "metadata": {},
   "outputs": [],
   "source": [
    "plt.rcParams['pdf.fonttype'] = 42\n",
    "plt.rcParams['font.family'] = 'Arial'"
   ]
  },
  {
   "cell_type": "code",
   "execution_count": null,
   "id": "suspended-contribution",
   "metadata": {},
   "outputs": [],
   "source": [
    "from optuna.integration import lightgbm as lgb"
   ]
  },
  {
   "cell_type": "markdown",
   "id": "b1d7910c-f2ad-4341-a246-bfc7902b984b",
   "metadata": {},
   "source": [
    "# Import data"
   ]
  },
  {
   "cell_type": "code",
   "execution_count": null,
   "id": "b949f113-a386-4e4f-84b0-3fa59a511f08",
   "metadata": {},
   "outputs": [],
   "source": [
    "ipt_DIR = \"../../../1_data_processing/processed_data/\""
   ]
  },
  {
   "cell_type": "code",
   "execution_count": null,
   "id": "9ceb1086-2026-4999-bf4b-e6d9e9bc74c1",
   "metadata": {},
   "outputs": [],
   "source": [
    "y = pd.read_csv(os.path.join(ipt_DIR, \"y.csv\"),index_col=\"group.cmp\")\n",
    "X = pd.read_csv(os.path.join(ipt_DIR, \"X_scaled.csv\"),index_col=\"group.cmp\")"
   ]
  },
  {
   "cell_type": "markdown",
   "id": "9aa3be65-d5c1-46e8-9656-b4f55ef3dcea",
   "metadata": {},
   "source": [
    "# Import models"
   ]
  },
  {
   "cell_type": "code",
   "execution_count": null,
   "id": "bacterial-serve",
   "metadata": {},
   "outputs": [],
   "source": [
    "ipt_DIR_male = \"../../../2_model_construction/lasso/out/MAPE/0.99/Lasso/male/tsfresh/\"\n",
    "ipt_DIR_female = \"../../../2_model_construction/lightGBM/out/MAPE/0.99/LGBM/female/both/\"\n",
    "ipt_DIR_both = \"../../../2_model_construction/lasso/out/MAPE/0.99/Lasso/both/tsfresh/\""
   ]
  },
  {
   "cell_type": "code",
   "execution_count": null,
   "id": "f7ab9e40-af12-4a5c-888a-fd8b960656d1",
   "metadata": {},
   "outputs": [],
   "source": [
    "models_male = []\n",
    "for i in range(5):\n",
    "    bestDIR = ipt_DIR_male+\"optuna/outer_\"+str(i)+\"/bestmodel.pkl\"\n",
    "    print(bestDIR)\n",
    "    best_lasso_cv = joblib.load(bestDIR)\n",
    "    models_male.extend(best_lasso_cv['estimator'])"
   ]
  },
  {
   "cell_type": "code",
   "execution_count": null,
   "id": "f221c4b0-68ce-409f-8c2f-93259d0d6e83",
   "metadata": {},
   "outputs": [],
   "source": [
    "models_female = lgb.CVBooster()\n",
    "for i in range(5):\n",
    "    for j in range(5):\n",
    "        bestDIR = ipt_DIR_female+\"optuna/outer_\"+str(i)+\"/model_\"+str(j)+\".txt\"\n",
    "        tmp_booster = lgb.Booster(model_file = bestDIR)\n",
    "        models_female.boosters.append(tmp_booster)"
   ]
  },
  {
   "cell_type": "code",
   "execution_count": null,
   "id": "ab5f4754-82b1-4665-90d3-f99dc1e62438",
   "metadata": {},
   "outputs": [],
   "source": [
    "models_both = []\n",
    "for i in range(5):\n",
    "    bestDIR = ipt_DIR_both+\"optuna/outer_\"+str(i)+\"/bestmodel.pkl\"\n",
    "    print(bestDIR)\n",
    "    best_lasso_cv = joblib.load(bestDIR)\n",
    "    models_both.extend(best_lasso_cv['estimator'])"
   ]
  },
  {
   "cell_type": "markdown",
   "id": "091ff59d-ef3a-476b-a5df-8fa78e174d36",
   "metadata": {},
   "source": [
    "# Import features used"
   ]
  },
  {
   "cell_type": "code",
   "execution_count": null,
   "id": "43bc0979-70d8-43dd-a7ed-b1a786f06bbe",
   "metadata": {},
   "outputs": [],
   "source": [
    "coef_male = pd.read_csv(ipt_DIR_male + \"feature_coefs.csv\",index_col=0)\n",
    "features_male = list(coef_male.columns)\n",
    "print(len(features_male))\n",
    "\n",
    "coef_female = pd.read_csv(ipt_DIR_female + \"feature_importance.csv\",index_col=0)\n",
    "features_female = list(coef_female.columns)\n",
    "print(len(features_female))\n",
    "\n",
    "coef_both = pd.read_csv(ipt_DIR_both + \"feature_coefs.csv\",index_col=0)\n",
    "features_both = list(coef_both.columns)\n",
    "print(len(features_both))\n"
   ]
  },
  {
   "cell_type": "code",
   "execution_count": null,
   "id": "63e8fe06-d155-4bde-99e4-309913389147",
   "metadata": {},
   "outputs": [],
   "source": [
    "X_male = X[features_male]\n",
    "X_female = X[features_female]\n",
    "X_both = X[features_female]"
   ]
  },
  {
   "cell_type": "markdown",
   "id": "44bd83d7-c458-4c1b-ac8f-4b4afd8607f1",
   "metadata": {},
   "source": [
    "# import folds used"
   ]
  },
  {
   "cell_type": "code",
   "execution_count": null,
   "id": "e97c65c6-6ea9-46b0-9733-330485cad961",
   "metadata": {
    "tags": []
   },
   "outputs": [],
   "source": [
    "#import 5-folds\n",
    "folds_out = joblib.load(ipt_DIR+\"indices_5folds.pkl\")"
   ]
  },
  {
   "cell_type": "markdown",
   "id": "225f3ccc-bcbc-4d5e-879d-36edd19e8dbf",
   "metadata": {},
   "source": [
    "# calculate shap values\n",
    "## calculate shap values in male best model"
   ]
  },
  {
   "cell_type": "code",
   "execution_count": null,
   "id": "eae6525f-c146-4590-8614-51ba5c10b815",
   "metadata": {
    "tags": []
   },
   "outputs": [],
   "source": [
    "df_male = pd.DataFrame()\n",
    "\n",
    "for k in range(len(folds_out)):\n",
    "    # select test, train, model sets in a fold\n",
    "    train_rows_index = y.loc[folds_out[k][0],].loc[y[\"SEX.男1.女0\"]==1].index\n",
    "    test_rows_index = y.loc[folds_out[k][1],].loc[y[\"SEX.男1.女0\"]==1].index\n",
    "    \n",
    "    x_train_tmp = X.loc[train_rows_index,features_male]\n",
    "    x_test_tmp = X.loc[test_rows_index,features_male]\n",
    "    \n",
    "    print(x_test_tmp.shape)\n",
    "    # calculate shap\n",
    "    model_tmp = models_male[k*5:(k+1)*5]\n",
    "    explainers = []\n",
    "    shap_values = []\n",
    "    for j in range(5):\n",
    "        explainer = shap.KernelExplainer(model_tmp[j].predict, x_train_tmp)\n",
    "        explainers.append(explainer)\n",
    "        shap_value = explainer.shap_values(x_test_tmp)\n",
    "        shap_values.append(shap_value)\n",
    "    \n",
    "    shap_values_ave = np.mean(shap_values,axis=0)\n",
    "    \n",
    "    tmp_df = pd.DataFrame(shap_values_ave, test_rows_index)\n",
    "    tmp_df.columns = features_male\n",
    "    tmp_df = pd.merge(y.loc[test_rows_index], tmp_df, left_index=True, right_index=True)\n",
    "    \n",
    "    df_male = pd.concat([df_male, tmp_df],axis=0)"
   ]
  },
  {
   "cell_type": "code",
   "execution_count": null,
   "id": "1868849a-0678-4b81-8a24-2481cdcc4469",
   "metadata": {},
   "outputs": [],
   "source": [
    "shap.summary_plot(np.array(df_male.iloc[:,y.shape[1]:]), X.loc[y[\"SEX.男1.女0\"]==1,features_male],\n",
    "                  plot_type=\"bar\",color=\"gray\",max_display=10,\n",
    "                show=False)\n",
    "\n",
    "# print(f'Original size: {plt.gcf().get_size_inches()}')\n",
    "# w, h = plt.gcf().get_size_inches()\n",
    "# plt.gcf().set_size_inches(w*1.5, h*0.9)\n",
    "# plt.tight_layout()\n",
    "# print(f'New size: {plt.gcf().get_size_inches()}')\n",
    "\n",
    "plt.savefig(\"../figure/shap_bar_male.pdf\", bbox_inches='tight')"
   ]
  },
  {
   "cell_type": "code",
   "execution_count": null,
   "id": "1f9a5fef-1c42-4ec8-b74a-17f79fe96eac",
   "metadata": {},
   "outputs": [],
   "source": [
    "shap.summary_plot(np.array(df_male.iloc[:,y.shape[1]:]), X.loc[y[\"SEX.男1.女0\"]==1,features_male],\n",
    "                 plot_type=\"dot\", max_display=10,\n",
    "                show=False)\n",
    "\n",
    "# print(f'Original size: {plt.gcf().get_size_inches()}')\n",
    "# w, h = plt.gcf().get_size_inches()\n",
    "# plt.gcf().set_size_inches(w*1.5, h*0.9)\n",
    "# plt.tight_layout()\n",
    "# print(f'New size: {plt.gcf().get_size_inches()}')\n",
    "\n",
    "plt.savefig(\"../figure/shap_dot_male.pdf\", bbox_inches='tight')"
   ]
  },
  {
   "cell_type": "code",
   "execution_count": null,
   "id": "68e14968-7ad2-47e4-adf7-a5d0b8fc899f",
   "metadata": {},
   "outputs": [],
   "source": [
    "shap.summary_plot(np.array(df_male.iloc[:,y.shape[1]:]), X.loc[y[\"SEX.男1.女0\"]==1,features_male],\n",
    "                 plot_type=\"violin\", max_display=10,\n",
    "                show=False)\n",
    "\n",
    "# print(f'Original size: {plt.gcf().get_size_inches()}')\n",
    "# w, h = plt.gcf().get_size_inches()\n",
    "# plt.gcf().set_size_inches(w*1.5, h*0.9)\n",
    "# plt.tight_layout()\n",
    "# print(f'New size: {plt.gcf().get_size_inches()}')\n",
    "\n",
    "plt.savefig(\"../figure/shap_violin_male.pdf\", bbox_inches='tight')"
   ]
  },
  {
   "cell_type": "code",
   "execution_count": null,
   "id": "2dedb3ae-8e6a-4c91-890f-c3a7a994c8ec",
   "metadata": {},
   "outputs": [],
   "source": [
    "df_male.to_csv(\"../out/shap_male.csv\")"
   ]
  },
  {
   "cell_type": "markdown",
   "id": "372a6157-445a-4e00-ac45-0998b35f2eea",
   "metadata": {},
   "source": [
    "## calc shap values in female best model"
   ]
  },
  {
   "cell_type": "code",
   "execution_count": null,
   "id": "d138091e-d6c4-47e8-b776-e7990474fd3c",
   "metadata": {
    "tags": []
   },
   "outputs": [],
   "source": [
    "df_female = pd.DataFrame()\n",
    "\n",
    "for k in range(len(folds_out)):\n",
    "    # select test, train, model sets in a fold\n",
    "    train_rows_index = y.loc[folds_out[k][0],].loc[y[\"SEX.男1.女0\"]==0].index\n",
    "    test_rows_index = y.loc[folds_out[k][1],].loc[y[\"SEX.男1.女0\"]==0].index\n",
    "    \n",
    "    x_train_tmp = X.loc[train_rows_index,features_female]\n",
    "    x_test_tmp = X.loc[test_rows_index,features_female]\n",
    "    \n",
    "    print(x_test_tmp.shape)\n",
    "    # calculate shap\n",
    "    model_tmp = models_female.boosters[k*5:(k+1)*5]\n",
    "    explainers = []\n",
    "    shap_values = []\n",
    "    for j in range(5):\n",
    "        explainer = shap.KernelExplainer(model_tmp[j].predict, x_train_tmp)\n",
    "        explainers.append(explainer)\n",
    "        shap_value = explainer.shap_values(x_test_tmp)\n",
    "        shap_values.append(shap_value)\n",
    "    \n",
    "    shap_values_ave = np.mean(shap_values,axis=0)\n",
    "    \n",
    "    tmp_df = pd.DataFrame(shap_values_ave, test_rows_index)\n",
    "    tmp_df.columns = features_female\n",
    "    tmp_df = pd.merge(y.loc[test_rows_index], tmp_df, left_index=True, right_index=True)#.drop([\"index\"],axis=1)\n",
    "    \n",
    "    df_female = pd.concat([df_female, tmp_df],axis=0)"
   ]
  },
  {
   "cell_type": "code",
   "execution_count": null,
   "id": "80c3e076-a86a-4231-a0d1-0175fea803bb",
   "metadata": {},
   "outputs": [],
   "source": [
    "shap.summary_plot(np.array(df_female.iloc[:,,y.shape[1]:]), X.loc[y[\"SEX.男1.女0\"]==0,features_female],\n",
    "                  plot_type=\"bar\",color=\"gray\",max_display=10,\n",
    "                show=False)\n",
    "# print(f'Original size: {plt.gcf().get_size_inches()}')\n",
    "# w, h = plt.gcf().get_size_inches()\n",
    "# plt.gcf().set_size_inches(w*1.5, h*0.9)\n",
    "# plt.tight_layout()\n",
    "# print(f'New size: {plt.gcf().get_size_inches()}')\n",
    "plt.savefig(\"../figure/shap_bar_female.pdf\", bbox_inches='tight')"
   ]
  },
  {
   "cell_type": "code",
   "execution_count": null,
   "id": "3cbe7725-2deb-4526-b9e5-a2329a392154",
   "metadata": {},
   "outputs": [],
   "source": [
    "shap.summary_plot(np.array(df_female.iloc[:,y.shape[1]:]), X.loc[y[\"SEX.男1.女0\"]==0,features_female],\n",
    "                 plot_type=\"dot\", max_display=10,\n",
    "                show=False)\n",
    "# print(f'Original size: {plt.gcf().get_size_inches()}')\n",
    "# w, h = plt.gcf().get_size_inches()\n",
    "# plt.gcf().set_size_inches(w*1.5, h*0.9)\n",
    "# plt.tight_layout()\n",
    "# print(f'New size: {plt.gcf().get_size_inches()}')\n",
    "plt.savefig(\"../figure/shap_dot_female.pdf\", bbox_inches='tight')"
   ]
  },
  {
   "cell_type": "code",
   "execution_count": null,
   "id": "738a1f62-c7a0-4bf2-878e-7e709bc8ed3c",
   "metadata": {},
   "outputs": [],
   "source": [
    "shap.summary_plot(np.array(df_female.iloc[:,y.shape[1]:]), X.loc[y[\"SEX.男1.女0\"]==0,features_female],\n",
    "                 plot_type=\"violin\", max_display=10,\n",
    "                show=False)\n",
    "# print(f'Original size: {plt.gcf().get_size_inches()}')\n",
    "# w, h = plt.gcf().get_size_inches()\n",
    "# plt.gcf().set_size_inches(w*1.5, h*0.9)\n",
    "# plt.tight_layout()\n",
    "# print(f'New size: {plt.gcf().get_size_inches()}')\n",
    "plt.savefig(\"../figure/shap_violin_female.pdf\", bbox_inches='tight')"
   ]
  },
  {
   "cell_type": "code",
   "execution_count": null,
   "id": "eef815ef-f84b-4cfc-91de-49853087e70f",
   "metadata": {},
   "outputs": [],
   "source": [
    "df_female.to_csv(\"../out/shap_female.csv\")"
   ]
  },
  {
   "cell_type": "markdown",
   "id": "e87b2e83-1721-44d0-a9e1-4ff51247f327",
   "metadata": {},
   "source": [
    "## calc shap values in both best model"
   ]
  },
  {
   "cell_type": "code",
   "execution_count": null,
   "id": "597e4fa0-6b82-4516-8569-e17c37ea986c",
   "metadata": {},
   "outputs": [],
   "source": [
    "df_both = pd.DataFrame()\n",
    "\n",
    "for k in range(len(folds_out)):\n",
    "    # select test, train, model sets in a fold\n",
    "    train_rows_index = y.loc[folds_out[k][0],].index\n",
    "    test_rows_index = y.loc[folds_out[k][1],].index\n",
    "    \n",
    "    x_train_tmp = X.loc[train_rows_index,features_both]\n",
    "    x_test_tmp = X.loc[test_rows_index,features_both]\n",
    "    \n",
    "    print(x_test_tmp.shape)\n",
    "    # calculate shap\n",
    "    model_tmp = models_both[k*5:(k+1)*5]\n",
    "    explainers = []\n",
    "    shap_values = []\n",
    "    for j in range(5):\n",
    "        explainer = shap.KernelExplainer(model_tmp[j].predict, x_train_tmp)\n",
    "        explainers.append(explainer)\n",
    "        shap_value = explainer.shap_values(x_test_tmp)\n",
    "        shap_values.append(shap_value)\n",
    "    \n",
    "    shap_values_ave = np.mean(shap_values,axis=0)\n",
    "    \n",
    "    tmp_df = pd.DataFrame(shap_values_ave, test_rows_index)\n",
    "    tmp_df.columns = features_both\n",
    "    tmp_df = pd.merge(y.loc[test_rows_index], tmp_df, left_index=True, right_index=True)#.drop([\"index\"],axis=1)\n",
    "    \n",
    "    df_both = pd.concat([df_both, tmp_df],axis=0)\n"
   ]
  },
  {
   "cell_type": "code",
   "execution_count": null,
   "id": "e4fd1ac6-155a-45eb-81ca-071d66ad2a30",
   "metadata": {},
   "outputs": [],
   "source": [
    "shap.summary_plot(np.array(df_both.iloc[:,y.shape[1]:]), X.loc[:,features_both],\n",
    "                  plot_type=\"bar\",color=\"gray\",max_display=10,\n",
    "                show=False)\n",
    "# print(f'Original size: {plt.gcf().get_size_inches()}')\n",
    "# w, h = plt.gcf().get_size_inches()\n",
    "# plt.gcf().set_size_inches(w*1.5, h*0.9)\n",
    "# plt.tight_layout()\n",
    "# print(f'New size: {plt.gcf().get_size_inches()}')\n",
    "plt.savefig(\"../figure/shap_bar_both.pdf\", bbox_inches='tight')"
   ]
  },
  {
   "cell_type": "code",
   "execution_count": null,
   "id": "bf17175e-9b8d-4a57-82dd-73e75da17d23",
   "metadata": {},
   "outputs": [],
   "source": [
    "shap.summary_plot(np.array(df_both.iloc[:,y.shape[1]:]), X.loc[:,features_both],\n",
    "                 plot_type=\"dot\", max_display=10,\n",
    "                show=False)\n",
    "# print(f'Original size: {plt.gcf().get_size_inches()}')\n",
    "# w, h = plt.gcf().get_size_inches()\n",
    "# plt.gcf().set_size_inches(w*1.5, h*0.9)\n",
    "# plt.tight_layout()\n",
    "# print(f'New size: {plt.gcf().get_size_inches()}')\n",
    "plt.savefig(\"../figure/shap_dot_both.pdf\", bbox_inches='tight')"
   ]
  },
  {
   "cell_type": "code",
   "execution_count": null,
   "id": "33cac564-5be2-4b9c-a793-f3efc71ce444",
   "metadata": {},
   "outputs": [],
   "source": [
    "shap.summary_plot(np.array(df_both.iloc[:,y.shape[1]:]), X.loc[:,features_both],\n",
    "                 plot_type=\"violin\", max_display=10,\n",
    "                show=False)\n",
    "# print(f'Original size: {plt.gcf().get_size_inches()}')\n",
    "# w, h = plt.gcf().get_size_inches()\n",
    "# plt.gcf().set_size_inches(w*1.5, h*0.9)\n",
    "# plt.tight_layout()\n",
    "# print(f'New size: {plt.gcf().get_size_inches()}')\n",
    "plt.savefig(\"../figure/shap_violin_both.pdf\", bbox_inches='tight')"
   ]
  },
  {
   "cell_type": "code",
   "execution_count": null,
   "id": "c928bf9c-c8d7-460e-b9e9-4aaf9124f298",
   "metadata": {},
   "outputs": [],
   "source": [
    "df_both.to_csv(\"../out/shap_both.csv\")"
   ]
  }
 ],
 "metadata": {
  "kernelspec": {
   "display_name": "Python 3 (ipykernel)",
   "language": "python",
   "name": "python3"
  },
  "language_info": {
   "codemirror_mode": {
    "name": "ipython",
    "version": 3
   },
   "file_extension": ".py",
   "mimetype": "text/x-python",
   "name": "python",
   "nbconvert_exporter": "python",
   "pygments_lexer": "ipython3",
   "version": "3.8.0"
  }
 },
 "nbformat": 4,
 "nbformat_minor": 5
}
